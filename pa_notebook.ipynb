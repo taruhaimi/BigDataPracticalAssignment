{
 "cells": [
  {
   "cell_type": "markdown",
   "metadata": {},
   "source": [
    "BIG DATA IN BUSINESS AND INDUSTRY, PRACTICAL WORK\\\n",
    "Taru Haimi, 0565878\\\n",
    "Joona Ylijoki, xxxxxxx"
   ]
  },
  {
   "cell_type": "code",
   "execution_count": 1,
   "metadata": {},
   "outputs": [],
   "source": [
    "#########################################\n",
    "import pandas as pd\n",
    "import os\n",
    "import pa_functions as pafun"
   ]
  },
  {
   "cell_type": "markdown",
   "metadata": {},
   "source": [
    "Loading data from json files into one dataframe.\\\n",
    "Source code: READ_workoutsToMoodle.py "
   ]
  },
  {
   "cell_type": "code",
   "execution_count": 3,
   "metadata": {},
   "outputs": [],
   "source": [
    "folderpath = r\"C:\\Users\\taruh\\Qsync\\LUT\\Maisterikurssit\\Big Data in Business and Industry\\PRACTICAL WORK\\WorkoutData_2017to2020\"\n",
    "df_res = pd.DataFrame()\n",
    "for file in os.listdir(folderpath):\n",
    "    df_process = pafun.read_file_to_df(os.path.join(folderpath, file))\n",
    "    df_res = pd.concat([df_res, df_process], ignore_index=True)\n",
    "df_res.reset_index(drop=True, inplace = True)"
   ]
  }
 ],
 "metadata": {
  "kernelspec": {
   "display_name": "Python 3",
   "language": "python",
   "name": "python3"
  },
  "language_info": {
   "codemirror_mode": {
    "name": "ipython",
    "version": 3
   },
   "file_extension": ".py",
   "mimetype": "text/x-python",
   "name": "python",
   "nbconvert_exporter": "python",
   "pygments_lexer": "ipython3",
   "version": "3.9.13"
  }
 },
 "nbformat": 4,
 "nbformat_minor": 2
}
